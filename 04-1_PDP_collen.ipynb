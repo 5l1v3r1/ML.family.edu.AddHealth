{
 "cells": [
  {
   "cell_type": "markdown",
   "metadata": {
    "collapsed": true
   },
   "source": [
    "### Partial dependence plots for random forests model predicting college enrollment"
   ]
  },
  {
   "cell_type": "code",
   "execution_count": null,
   "metadata": {},
   "outputs": [],
   "source": [
    "import numpy as np\n",
    "import pandas as pd\n",
    "\n",
    "from sklearn.model_selection import train_test_split\n",
    "from sklearn.tree import DecisionTreeClassifier\n",
    "from sklearn.linear_model import LogisticRegression\n",
    "#from sklearn.cross_validation import cross_val_score\n",
    "from sklearn.ensemble import RandomForestClassifier\n",
    "\n",
    "from sklearn.externals.six import StringIO  \n",
    "from sklearn.tree import export_graphviz\n",
    "\n",
    "import matplotlib.pyplot as plt\n",
    "\n",
    "from sklearn.metrics import confusion_matrix\n",
    "from sklearn.metrics import roc_auc_score\n",
    "from sklearn.model_selection import StratifiedKFold\n",
    "import sklearn.metrics\n",
    "\n",
    "from skater.core.explanations import Interpretation\n",
    "from skater.model import InMemoryModel\n",
    "%matplotlib inline\n",
    "from matplotlib.ticker import FormatStrFormatter"
   ]
  },
  {
   "cell_type": "code",
   "execution_count": null,
   "metadata": {},
   "outputs": [],
   "source": [
    "#setting up\n",
    "feature_names = ['Mother', 'Father', 'TwoBioParent', 'HHsize', 'SibNum', 'BirthOrder', 'momeduc', 'dadeduc', \n",
    "                 'momjob', 'dadjob', 'faminc', 'PAassistance', 'welfare', 'PAecohard', 'minvolve', 'dinvolve',\n",
    "                 'PAPTA', 'mexp', 'dexp', 'mactiv', 'dactiv', 'control', 'mspv', 'dspv', 'mrel', 'drel', \n",
    "                 'famsup', 'dinner', 'PAclosure', 'mnativity', 'dnativity', 'PAage', 'PAhealth', 'PAsmoke', \n",
    "                 'malcohol', 'dalcohol', 'mobese', 'dobese', 'mdisable', 'ddisable', 'PArelig', 'HHsmoke', \n",
    "                 'HHdrug', 'fammed', 'EnglishHome', 'biosex', 'YAge', 'Latino', 'AA', 'Native', 'Asian', 'other_race',\n",
    "                 'nativity']\n",
    "#using the model that has the highest prediction among the 5 models\n",
    "X=np.loadtxt('dat1_collen.csv', delimiter=',')\n",
    "collen=np.loadtxt('collen.csv', delimiter=',')\n",
    "weights=np.loadtxt('weights4_collen.csv', delimiter=',')\n",
    "skf = StratifiedKFold(n_splits=5, random_state = 666, shuffle= True)\n",
    "skf.get_n_splits(X, collen)\n",
    "train_indices=[]\n",
    "test_indices=[]\n",
    "for train_index, test_index in skf.split(X, collen):\n",
    "    train_indices.append(train_index)\n",
    "    test_indices.append(test_index)\n",
    "train4 = train_indices[3]\n",
    "test4 = test_indices[3]\n",
    "rf4 = RandomForestClassifier(random_state = 666, n_estimators=400, max_depth = 11) \n",
    "rf4.fit(X[train4], collen[train4], sample_weight = weights[train4])"
   ]
  },
  {
   "cell_type": "markdown",
   "metadata": {},
   "source": [
    "#### 2D PDP for nonlinear effects"
   ]
  },
  {
   "cell_type": "code",
   "execution_count": null,
   "metadata": {},
   "outputs": [],
   "source": [
    "#Use rf2 \n",
    "plt.rcParams[\"font.family\"] = \"Times New Roman\"\n",
    "plt.rcParams.update({'font.size': 18})\n",
    "pyint_model = InMemoryModel(rf4.predict_proba, examples=X[train4], \n",
    "                            target_names=['No College Enrollment', 'College Enrollment Probability'])\n",
    "interpreter = Interpretation(X[test4], feature_names=feature_names)\n",
    "axes_list = interpreter.partial_dependence.plot_partial_dependence(['mactiv'],pyint_model,  #here, plug in the selected variable you're interested in looking!\n",
    "                        grid_resolution=30, with_variance=False,figsize = (5, 5))\n",
    "ax = axes_list[0][1]\n",
    "#plt.xlabel('Mother-Adolescent Shared Activities')\n",
    "plt.ylabel(' ') \n",
    "#plt.yticks([0.60, 0.62, 0.64, 0.66, 0.68])\n",
    "ax.get_legend().remove()\n",
    "plt.autoscale(False)\n",
    "#ax.set_ylim(0.63, 0.66)\n",
    "ax.yaxis.set_major_formatter(FormatStrFormatter('%.2f'))\n",
    "#ax.xaxis.set_major_formatter(FormatStrFormatter('%.2f'))\n",
    "ax.xaxis.set_major_formatter(FormatStrFormatter('%.0f'))\n",
    "#ax.xaxis.set_label_coords(0.5, 0.06)\n",
    "#plt.savefig('faminc_collen_c.png', dpi=300) \n",
    "#plt.savefig('mattach.png', dpi=300)  \n",
    "#ax.yaxis.get_offset_text().set_visible(False)"
   ]
  },
  {
   "cell_type": "markdown",
   "metadata": {},
   "source": [
    "#### 3D PDP for interactive effects"
   ]
  },
  {
   "cell_type": "code",
   "execution_count": null,
   "metadata": {},
   "outputs": [],
   "source": [
    "plt.rcParams[\"font.family\"] = \"Times New Roman\"\n",
    "plt.rcParams.update({'font.size': 16})\n",
    "model = InMemoryModel(rf4.predict_proba, examples=X[train4], target_names=['No College Enrollment', 'College Enrollment Probability'])\n",
    "axes_list=interpreter.partial_dependence.plot_partial_dependence([('momjob', 'dinner')], model, \n",
    "                                                                 #here, plug in the two selected variables you're interested in looking!\n",
    "                                                       grid_resolution=10)\n",
    "ax = axes_list[0][0].axes[0]\n",
    "#plt.ylabel('Shared Dinner With Parents')\n",
    "#plt.xlabel('Mother Occupational Prestige')\n",
    "#ax.set_ylabel('Shared Dinner With Parents')\n",
    "#ax.set_xlabel('Mother Occupational Prestige')\n",
    "#ax.invert_yaxis()\n",
    "#ax.get_legend().remove()\n",
    "plt.autoscale(False)\n",
    "#ax.set_ylim(0.50, 0.75)\n",
    "ax.xaxis.set_ticks_position('top')\n",
    "ax.yaxis.set_ticks_position('top')\n",
    "ax.yaxis.set_major_formatter(FormatStrFormatter('%.1f'))\n",
    "#ax.xaxis.set_major_formatter(FormatStrFormatter('%.2f'))\n",
    "ax.zaxis.set_major_formatter(FormatStrFormatter('%.2f'))\n",
    "#plt.savefig('PAage.png', dpi=300)  \n",
    "ax2 = axes_list[0][0].axes[1]\n",
    "ax2.xaxis.set_major_formatter(FormatStrFormatter('%.2f'))\n",
    "#plt.savefig('dexp_Ymomjob_re_collen.png', dpi=300) \n"
   ]
  }
 ],
 "metadata": {
  "kernelspec": {
   "display_name": "Python 3",
   "language": "python",
   "name": "python3"
  },
  "language_info": {
   "codemirror_mode": {
    "name": "ipython",
    "version": 3
   },
   "file_extension": ".py",
   "mimetype": "text/x-python",
   "name": "python",
   "nbconvert_exporter": "python",
   "pygments_lexer": "ipython3",
   "version": "3.7.4"
  }
 },
 "nbformat": 4,
 "nbformat_minor": 2
}
