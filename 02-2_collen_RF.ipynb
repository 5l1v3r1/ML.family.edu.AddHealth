{
 "cells": [
  {
   "cell_type": "markdown",
   "metadata": {},
   "source": [
    "### Tuning, training and testing random forests models for predicting college enrollment"
   ]
  },
  {
   "cell_type": "markdown",
   "metadata": {},
   "source": [
    "loading packages needed"
   ]
  },
  {
   "cell_type": "code",
   "execution_count": null,
   "metadata": {},
   "outputs": [],
   "source": [
    "# if packages not installed, install them\n",
    "# import pip\n",
    "# pip.main(['install', numpy]) \n",
    "# pip.main(['install', pandas]) \n",
    "# pip.main(['install', sklearn]) \n",
    "# pip.main(['install', matplotlib]) \n",
    "# pip.main(['install', itertools]) "
   ]
  },
  {
   "cell_type": "code",
   "execution_count": null,
   "metadata": {},
   "outputs": [],
   "source": [
    "import numpy as np\n",
    "import pandas as pd\n",
    "\n",
    "from sklearn.model_selection import train_test_split\n",
    "from sklearn.tree import DecisionTreeClassifier\n",
    "from sklearn.linear_model import LogisticRegression\n",
    "#from sklearn.cross_validation import cross_val_score\n",
    "from sklearn.ensemble import RandomForestClassifier\n",
    "\n",
    "from sklearn.externals.six import StringIO  \n",
    "from sklearn.tree import export_graphviz\n",
    "\n",
    "import matplotlib.pyplot as plt\n",
    "\n",
    "from sklearn.metrics import confusion_matrix\n",
    "from sklearn.metrics import roc_auc_score\n",
    "from sklearn.model_selection import StratifiedKFold\n",
    "import sklearn.metrics\n",
    "\n",
    "import itertools"
   ]
  },
  {
   "cell_type": "code",
   "execution_count": null,
   "metadata": {},
   "outputs": [],
   "source": [
    "X=np.loadtxt('dat1_collen.csv', delimiter=',')\n",
    "print('Dimension of X is {}'.format(X.shape))\n",
    "X[0:]"
   ]
  },
  {
   "cell_type": "code",
   "execution_count": null,
   "metadata": {},
   "outputs": [],
   "source": [
    "collen=np.loadtxt('collen.csv', delimiter=',')\n",
    "print('Dimension of collen is {}'.format(collen.shape))\n",
    "collen[0:]"
   ]
  },
  {
   "cell_type": "code",
   "execution_count": null,
   "metadata": {},
   "outputs": [],
   "source": [
    "X = dat[:,1:36]\n",
    "print('Dimension of X is {}'.format(X.shape))\n",
    "X[0:]"
   ]
  },
  {
   "cell_type": "code",
   "execution_count": null,
   "metadata": {},
   "outputs": [],
   "source": [
    "weights=np.loadtxt('weights4_collen.csv', delimiter=',')\n",
    "weights[0:20]"
   ]
  },
  {
   "cell_type": "markdown",
   "metadata": {},
   "source": [
    "##### Applying nested cross-validation here (5-fold)"
   ]
  },
  {
   "cell_type": "code",
   "execution_count": null,
   "metadata": {},
   "outputs": [],
   "source": [
    "skf = StratifiedKFold(n_splits=5, random_state = 666, shuffle= True)\n",
    "skf.get_n_splits(X, collen)\n",
    "train_indices=[]\n",
    "test_indices=[]\n",
    "for train_index, test_index in skf.split(X, collen):\n",
    "    train_indices.append(train_index)\n",
    "    test_indices.append(test_index)"
   ]
  },
  {
   "cell_type": "code",
   "execution_count": null,
   "metadata": {},
   "outputs": [],
   "source": [
    "def cross_val_scores_weighted(model, X, y, weights, cv=5, metrics=[sklearn.metrics.accuracy_score]):\n",
    "    skf = StratifiedKFold(n_splits=cv, random_state = 66, shuffle= True)\n",
    "    skf.get_n_splits(X, y)\n",
    "    scores = [[] for metric in metrics]\n",
    "    for train_index, test_index in skf.split(X, y):\n",
    "        model_clone = sklearn.base.clone(model)\n",
    "        X_train, X_test = X[train_index], X[test_index]\n",
    "        y_train, y_test = y[train_index], y[test_index]\n",
    "        weights_train, weights_test = weights[train_index], weights[test_index]\n",
    "        #print(weights[train_index], weights[test_index])\n",
    "        model_clone.fit(X_train,y_train,sample_weight=weights_train)\n",
    "        y_pred = model_clone.predict(X_test)\n",
    "        for i, metric in enumerate(metrics):\n",
    "            score = metric(y_test, y_pred, sample_weight = weights_test)\n",
    "            scores[i].append(score)\n",
    "    return scores"
   ]
  },
  {
   "cell_type": "code",
   "execution_count": null,
   "metadata": {},
   "outputs": [],
   "source": [
    "#parameter ranges for model-tuning\n",
    "ntrees = [10, 50, 100, 200,300,400,500, 600, 700, 800, 900, 1000]  #number of trees\n",
    "depths = range(1, 36)\n",
    "ntree_depth_combo = list(itertools.product(ntrees, depths))"
   ]
  },
  {
   "cell_type": "markdown",
   "metadata": {},
   "source": [
    "### train_test 1 (CV1)"
   ]
  },
  {
   "cell_type": "code",
   "execution_count": null,
   "metadata": {},
   "outputs": [],
   "source": [
    "train1 = train_indices[0]\n",
    "test1 = test_indices[0]"
   ]
  },
  {
   "cell_type": "markdown",
   "metadata": {},
   "source": [
    "#### tuning maximum depth and number of trees"
   ]
  },
  {
   "cell_type": "code",
   "execution_count": null,
   "metadata": {
    "scrolled": true
   },
   "outputs": [],
   "source": [
    "cv1_accuracy = [] # container for training data accuracy\n",
    "for (ntree, depth) in ntree_depth_combo:\n",
    "    print(ntree, depth)\n",
    "    rf = RandomForestClassifier(random_state = 666, n_estimators=ntree, max_depth = depth) \n",
    "    scores = cross_val_scores_weighted(model=rf, X=X[train1], y=collen[train1], weights = weights[train1], cv=5)\n",
    "    cv1_accuracy.append(np.mean(scores))\n",
    "\n",
    "optimal_tune = ntree_depth_combo[cv1_accuracy.index(max(cv1_accuracy))] \n",
    "print(optimal_tune)\n"
   ]
  },
  {
   "cell_type": "code",
   "execution_count": null,
   "metadata": {},
   "outputs": [],
   "source": [
    "cv1_acc_seg = [cv1_accuracy[x:x+49] for x in range(0,len(cv1_accuracy),49)]\n",
    "print(optimal_tune, max(cv1_accuracy))\n",
    "line = ['-', '--', ':']\n",
    "i = 0\n",
    "fig = plt.figure(figsize=(20,5))\n",
    "ax = plt.subplot(111)\n",
    "for acc in cv1_acc_seg:\n",
    "    ax.plot(depths, acc, line[i])\n",
    "    i= i+1\n",
    "    if i is 3:\n",
    "        i = 0\n",
    "chartBox = ax.get_position()\n",
    "ax.set_position([chartBox.x0, chartBox.y0, chartBox.width*0.6, chartBox.height])\n",
    "ax.legend(ntrees, loc='upper center', bbox_to_anchor=(1.1, 0.8), shadow=True, ncol=1)\n",
    "plt.ylabel('5-fold cross validation accuracy (training data)')\n",
    "plt.show()\n",
    "\n",
    "\n",
    "#plt.legend(ntrees, loc='lower right', ncol = 2)\n",
    "#plt.xticks(range(len(cv1_accuracy)), ntree_depth_combo, size='small')\n",
    "\n",
    "#plt.show()"
   ]
  },
  {
   "cell_type": "markdown",
   "metadata": {},
   "source": [
    "#### train & test: using the best maximum depth & number of trees"
   ]
  },
  {
   "cell_type": "code",
   "execution_count": null,
   "metadata": {},
   "outputs": [],
   "source": [
    "rf1 = RandomForestClassifier(random_state = 666, n_estimators=400, max_depth = 7) \n",
    "rf1.fit(X[train1], collen[train1], sample_weight = weights[train1])\n",
    "rf1.score(X[test1], collen[test1], sample_weight=weights[test1])"
   ]
  },
  {
   "cell_type": "code",
   "execution_count": null,
   "metadata": {},
   "outputs": [],
   "source": [
    "roc_auc_score(y_true = [ int(i) for i in collen[test1] ], \n",
    "              y_score = rf1.predict_proba(X[test1])[:, 1], sample_weight = weights[test1])"
   ]
  },
  {
   "cell_type": "markdown",
   "metadata": {},
   "source": [
    "### train_test 2 (CV2)"
   ]
  },
  {
   "cell_type": "code",
   "execution_count": null,
   "metadata": {},
   "outputs": [],
   "source": [
    "train2 = train_indices[1]\n",
    "test2 = test_indices[1]"
   ]
  },
  {
   "cell_type": "markdown",
   "metadata": {},
   "source": [
    "#### tuning maximum depth and number of trees"
   ]
  },
  {
   "cell_type": "code",
   "execution_count": null,
   "metadata": {},
   "outputs": [],
   "source": [
    "cv2_accuracy = [] # container for training data accuracy\n",
    "for (ntree, depth) in ntree_depth_combo:\n",
    "    print(ntree, depth)\n",
    "    rf = RandomForestClassifier(random_state = 666, n_estimators=ntree, max_depth = depth) \n",
    "    scores = cross_val_scores_weighted(model=rf, X=X[train2], y=collen[train2], weights = weights[train2], cv=5)\n",
    "    cv2_accuracy.append(np.mean(scores))\n",
    "\n",
    "optimal_tune = ntree_depth_combo[cv2_accuracy.index(max(cv2_accuracy))] \n",
    "print(optimal_tune)\n"
   ]
  },
  {
   "cell_type": "code",
   "execution_count": null,
   "metadata": {},
   "outputs": [],
   "source": [
    "cv2_acc_seg = [cv2_accuracy[x:x+35] for x in range(0,len(cv2_accuracy),35)]\n",
    "print(optimal_tune, max(cv2_accuracy))\n",
    "line = ['-', '--', ':']\n",
    "i = 0\n",
    "fig = plt.figure(figsize=(20,5))\n",
    "ax = plt.subplot(111)\n",
    "for acc in cv2_acc_seg:\n",
    "    ax.plot(depths, acc, line[i])\n",
    "    i= i+1\n",
    "    if i is 3:\n",
    "        i = 0\n",
    "chartBox = ax.get_position()\n",
    "ax.set_position([chartBox.x0, chartBox.y0, chartBox.width*0.6, chartBox.height])\n",
    "ax.legend(ntrees, loc='upper center', bbox_to_anchor=(1.1, 0.8), shadow=True, ncol=1)\n",
    "plt.ylabel('5-fold cross validation accuracy (training data)')\n",
    "plt.show()"
   ]
  },
  {
   "cell_type": "markdown",
   "metadata": {},
   "source": [
    "#### train & test: using the best maximum depth & number of trees"
   ]
  },
  {
   "cell_type": "code",
   "execution_count": null,
   "metadata": {},
   "outputs": [],
   "source": [
    "rf2 = RandomForestClassifier(random_state = 666, n_estimators=800, max_depth = 10) \n",
    "rf2.fit(X[train2], collen[train2], sample_weight = weights[train2])\n",
    "rf2.score(X[test2], collen[test2], sample_weight=weights[test2])"
   ]
  },
  {
   "cell_type": "code",
   "execution_count": null,
   "metadata": {},
   "outputs": [],
   "source": [
    "roc_auc_score(y_true = [ int(i) for i in collen[test2] ], \n",
    "              y_score = rf2.predict_proba(X[test2])[:, 1], sample_weight = weights[test2])"
   ]
  },
  {
   "cell_type": "markdown",
   "metadata": {},
   "source": [
    "### train_test 3 (CV3)"
   ]
  },
  {
   "cell_type": "code",
   "execution_count": null,
   "metadata": {},
   "outputs": [],
   "source": [
    "train3 = train_indices[2]\n",
    "test3 = test_indices[2]"
   ]
  },
  {
   "cell_type": "markdown",
   "metadata": {},
   "source": [
    "#### tuning maximum depth and number of trees"
   ]
  },
  {
   "cell_type": "code",
   "execution_count": null,
   "metadata": {},
   "outputs": [],
   "source": [
    "cv3_accuracy = [] # container for training data accuracy\n",
    "for (ntree, depth) in ntree_depth_combo:\n",
    "    print(ntree, depth)\n",
    "    rf = RandomForestClassifier(random_state = 666, n_estimators=ntree, max_depth = depth) \n",
    "    scores = cross_val_scores_weighted(model=rf, X=X[train3], y=collen[train3], weights = weights[train3], cv=5)\n",
    "    cv3_accuracy.append(np.mean(scores))\n",
    "\n",
    "optimal_tune = ntree_depth_combo[cv3_accuracy.index(max(cv3_accuracy))] \n",
    "print(optimal_tune)\n"
   ]
  },
  {
   "cell_type": "code",
   "execution_count": null,
   "metadata": {},
   "outputs": [],
   "source": [
    "cv3_acc_seg = [cv3_accuracy[x:x+35] for x in range(0,len(cv3_accuracy),35)]\n",
    "print(optimal_tune, max(cv3_accuracy))\n",
    "line = ['-', '--', ':']\n",
    "i = 0\n",
    "fig = plt.figure(figsize=(20,5))\n",
    "ax = plt.subplot(111)\n",
    "for acc in cv3_acc_seg:\n",
    "    ax.plot(depths, acc, line[i])\n",
    "    i= i+1\n",
    "    if i is 3:\n",
    "        i = 0\n",
    "chartBox = ax.get_position()\n",
    "ax.set_position([chartBox.x0, chartBox.y0, chartBox.width*0.6, chartBox.height])\n",
    "ax.legend(ntrees, loc='upper center', bbox_to_anchor=(1.1, 0.8), shadow=True, ncol=1)\n",
    "plt.ylabel('5-fold cross validation accuracy (training data)')\n",
    "plt.show()"
   ]
  },
  {
   "cell_type": "markdown",
   "metadata": {},
   "source": [
    "#### train & test: using the best maximum depth & number of trees"
   ]
  },
  {
   "cell_type": "code",
   "execution_count": null,
   "metadata": {},
   "outputs": [],
   "source": [
    "rf3 = RandomForestClassifier(random_state = 666, n_estimators=900, max_depth = 10) \n",
    "rf3.fit(X[train3], collen[train3], sample_weight = weights[train3])\n",
    "rf3.score(X[test3], collen[test3], sample_weight=weights[test3])"
   ]
  },
  {
   "cell_type": "code",
   "execution_count": null,
   "metadata": {},
   "outputs": [],
   "source": [
    "roc_auc_score(y_true = [ int(i) for i in collen[test3] ], \n",
    "              y_score = rf3.predict_proba(X[test3])[:, 1], sample_weight = weights[test3])"
   ]
  },
  {
   "cell_type": "markdown",
   "metadata": {},
   "source": [
    "### train_test 4 (CV4)"
   ]
  },
  {
   "cell_type": "code",
   "execution_count": null,
   "metadata": {},
   "outputs": [],
   "source": [
    "train4 = train_indices[3]\n",
    "test4 = test_indices[3]"
   ]
  },
  {
   "cell_type": "markdown",
   "metadata": {},
   "source": [
    "#### tuning maximum depth and number of trees"
   ]
  },
  {
   "cell_type": "code",
   "execution_count": null,
   "metadata": {},
   "outputs": [],
   "source": [
    "cv4_accuracy = [] # container for training data accuracy\n",
    "for (ntree, depth) in ntree_depth_combo:\n",
    "    print(ntree, depth)\n",
    "    rf = RandomForestClassifier(random_state = 666, n_estimators=ntree, max_depth = depth) \n",
    "    scores = cross_val_scores_weighted(model=rf, X=X[train4], y=collen[train4], weights = weights[train4], cv=5)\n",
    "    cv4_accuracy.append(np.mean(scores))\n",
    "\n",
    "optimal_tune = ntree_depth_combo[cv4_accuracy.index(max(cv4_accuracy))] \n",
    "print(optimal_tune)\n"
   ]
  },
  {
   "cell_type": "code",
   "execution_count": null,
   "metadata": {},
   "outputs": [],
   "source": [
    "cv4_acc_seg = [cv4_accuracy[x:x+35] for x in range(0,len(cv4_accuracy),35)]\n",
    "print(optimal_tune, max(cv4_accuracy))\n",
    "line = ['-', '--', ':']\n",
    "i = 0\n",
    "fig = plt.figure(figsize=(20,5))\n",
    "ax = plt.subplot(111)\n",
    "for acc in cv4_acc_seg:\n",
    "    ax.plot(depths, acc, line[i])\n",
    "    i= i+1\n",
    "    if i is 3:\n",
    "        i = 0\n",
    "chartBox = ax.get_position()\n",
    "ax.set_position([chartBox.x0, chartBox.y0, chartBox.width*0.6, chartBox.height])\n",
    "ax.legend(ntrees, loc='upper center', bbox_to_anchor=(1.1, 0.8), shadow=True, ncol=1)\n",
    "plt.ylabel('5-fold cross validation accuracy (training data)')\n",
    "plt.show()"
   ]
  },
  {
   "cell_type": "markdown",
   "metadata": {},
   "source": [
    "#### train & test: using the best maximum depth & number of trees"
   ]
  },
  {
   "cell_type": "code",
   "execution_count": null,
   "metadata": {},
   "outputs": [],
   "source": [
    "rf4 = RandomForestClassifier(random_state = 666, n_estimators=400, max_depth = 11) \n",
    "rf4.fit(X[train4], collen[train4], sample_weight = weights[train4])\n",
    "rf4.score(X[test4], collen[test4], sample_weight=weights[test4])"
   ]
  },
  {
   "cell_type": "code",
   "execution_count": null,
   "metadata": {},
   "outputs": [],
   "source": [
    "roc_auc_score(y_true = [ int(i) for i in collen[test4] ], \n",
    "              y_score = rf4.predict_proba(X[test4])[:, 1], sample_weight = weights[test4])"
   ]
  },
  {
   "cell_type": "markdown",
   "metadata": {},
   "source": [
    "### train_test 5 (CV5)"
   ]
  },
  {
   "cell_type": "code",
   "execution_count": null,
   "metadata": {},
   "outputs": [],
   "source": [
    "train5 = train_indices[4]\n",
    "test5 = test_indices[4]"
   ]
  },
  {
   "cell_type": "markdown",
   "metadata": {},
   "source": [
    "#### tuning maximum depth and number of trees"
   ]
  },
  {
   "cell_type": "code",
   "execution_count": null,
   "metadata": {},
   "outputs": [],
   "source": [
    "cv5_accuracy = [] # container for training data accuracy\n",
    "for (ntree, depth) in ntree_depth_combo:\n",
    "    print(ntree, depth)\n",
    "    rf = RandomForestClassifier(random_state = 666, n_estimators=ntree, max_depth = depth) \n",
    "    scores = cross_val_scores_weighted(model=rf, X=X[train5], y=collen[train5], weights = weights[train5], cv=5)\n",
    "    cv5_accuracy.append(np.mean(scores))\n",
    "\n",
    "optimal_tune = ntree_depth_combo[cv5_accuracy.index(max(cv5_accuracy))] \n",
    "print(optimal_tune)\n"
   ]
  },
  {
   "cell_type": "code",
   "execution_count": null,
   "metadata": {},
   "outputs": [],
   "source": [
    "cv5_acc_seg = [cv5_accuracy[x:x+35] for x in range(0,len(cv5_accuracy),35)]\n",
    "print(optimal_tune, max(cv5_accuracy))\n",
    "line = ['-', '--', ':']\n",
    "i = 0\n",
    "fig = plt.figure(figsize=(20,5))\n",
    "ax = plt.subplot(111)\n",
    "for acc in cv5_acc_seg:\n",
    "    ax.plot(depths, acc, line[i])\n",
    "    i= i+1\n",
    "    if i is 3:\n",
    "        i = 0\n",
    "chartBox = ax.get_position()\n",
    "ax.set_position([chartBox.x0, chartBox.y0, chartBox.width*0.6, chartBox.height])\n",
    "ax.legend(ntrees, loc='upper center', bbox_to_anchor=(1.1, 0.8), shadow=True, ncol=1)\n",
    "plt.ylabel('5-fold cross validation accuracy (training data)')\n",
    "plt.show()"
   ]
  },
  {
   "cell_type": "markdown",
   "metadata": {},
   "source": [
    "#### train & test: using the best maximum depth & number of trees"
   ]
  },
  {
   "cell_type": "code",
   "execution_count": null,
   "metadata": {},
   "outputs": [],
   "source": [
    "rf5 = RandomForestClassifier(random_state = 666, n_estimators=700, max_depth = 20) \n",
    "rf5.fit(X[train5], collen[train5], sample_weight = weights[train5])\n",
    "rf5.score(X[test5], collen[test5], sample_weight=weights[test5])"
   ]
  },
  {
   "cell_type": "code",
   "execution_count": null,
   "metadata": {},
   "outputs": [],
   "source": [
    "roc_auc_score(y_true = [ int(i) for i in collen[test5] ], \n",
    "              y_score = rf5.predict_proba(X[test5])[:, 1], sample_weight = weights[test5])"
   ]
  }
 ],
 "metadata": {
  "kernelspec": {
   "display_name": "Python 3",
   "language": "python",
   "name": "python3"
  },
  "language_info": {
   "codemirror_mode": {
    "name": "ipython",
    "version": 3
   },
   "file_extension": ".py",
   "mimetype": "text/x-python",
   "name": "python",
   "nbconvert_exporter": "python",
   "pygments_lexer": "ipython3",
   "version": "3.7.4"
  }
 },
 "nbformat": 4,
 "nbformat_minor": 2
}
